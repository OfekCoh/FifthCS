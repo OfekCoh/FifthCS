{
  "nbformat": 4,
  "nbformat_minor": 0,
  "metadata": {
    "colab": {
      "provenance": []
    },
    "kernelspec": {
      "name": "python3",
      "display_name": "Python 3"
    },
    "language_info": {
      "name": "python"
    }
  },
  "cells": [
    {
      "cell_type": "code",
      "source": [
        "!pip install z3-solver"
      ],
      "metadata": {
        "colab": {
          "base_uri": "https://localhost:8080/"
        },
        "id": "m1x73toxyaEl",
        "outputId": "c90036fd-32fb-4de5-9cb3-ee0335ca9fdf"
      },
      "execution_count": 2,
      "outputs": [
        {
          "output_type": "stream",
          "name": "stdout",
          "text": [
            "Collecting z3-solver\n",
            "  Downloading z3_solver-4.13.4.0-py3-none-manylinux_2_17_x86_64.manylinux2014_x86_64.whl.metadata (602 bytes)\n",
            "Downloading z3_solver-4.13.4.0-py3-none-manylinux_2_17_x86_64.manylinux2014_x86_64.whl (29.0 MB)\n",
            "\u001b[2K   \u001b[90m━━━━━━━━━━━━━━━━━━━━━━━━━━━━━━━━━━━━━━━━\u001b[0m \u001b[32m29.0/29.0 MB\u001b[0m \u001b[31m27.9 MB/s\u001b[0m eta \u001b[36m0:00:00\u001b[0m\n",
            "\u001b[?25hInstalling collected packages: z3-solver\n",
            "Successfully installed z3-solver-4.13.4.0\n"
          ]
        }
      ]
    },
    {
      "cell_type": "code",
      "source": [
        "import sys\n",
        "!{sys.executable} -m pip install z3-solver"
      ],
      "metadata": {
        "colab": {
          "base_uri": "https://localhost:8080/"
        },
        "id": "6izCuqhhybH4",
        "outputId": "3da91c8e-076c-4f3c-eb49-9618d06419b4"
      },
      "execution_count": 3,
      "outputs": [
        {
          "output_type": "stream",
          "name": "stdout",
          "text": [
            "Requirement already satisfied: z3-solver in /usr/local/lib/python3.11/dist-packages (4.13.4.0)\n"
          ]
        }
      ]
    },
    {
      "cell_type": "code",
      "execution_count": 4,
      "metadata": {
        "colab": {
          "base_uri": "https://localhost:8080/"
        },
        "id": "W-LUm6WArmnA",
        "outputId": "c739b925-9ff0-4d1f-cc48-2748c3f8dcac"
      },
      "outputs": [
        {
          "output_type": "stream",
          "name": "stdout",
          "text": [
            "No bug found within bound 1\n",
            "No bug found within bound 2\n",
            "No bug found within bound 3\n",
            "No bug found within bound 4\n",
            "No bug found within bound 5\n",
            "No bug found within bound 6\n",
            "No bug found within bound 7\n",
            "No bug found within bound 8\n",
            "No bug found within bound 9\n",
            "No bug found within bound 10\n",
            "No bug found within bound 11\n",
            "Bug found! Trace:\n",
            "time = 0: PC1 = 1, PC2 = 1, x = 0, y = 0, z = 0\n",
            "time = 1: PC1 = 2, PC2 = 1, x = 1, y = 0, z = 0\n",
            "time = 2: PC1 = 3, PC2 = 1, x = 1, y = 0, z = 0\n",
            "time = 3: PC1 = 4, PC2 = 1, x = 1, y = 0, z = 1\n",
            "time = 4: PC1 = 5, PC2 = 1, x = 1, y = 0, z = 1\n",
            "time = 5: PC1 = 5, PC2 = 2, x = 2, y = 0, z = 1\n",
            "time = 6: PC1 = 5, PC2 = 3, x = 2, y = 0, z = 1\n",
            "time = 7: PC1 = 6, PC2 = 3, x = 2, y = 1, z = 1\n",
            "time = 8: PC1 = 7, PC2 = 3, x = 2, y = 1, z = 1\n",
            "time = 9: PC1 = 7, PC2 = 4, x = 2, y = 1, z = 2\n",
            "time = 10: PC1 = 7, PC2 = 5, x = 2, y = 1, z = 2\n",
            "time = 11: PC1 = 7, PC2 = 6, x = 2, y = 2, z = 2\n",
            "time = 12: PC1 = 7, PC2 = 7, x = 2, y = 2, z = 2\n"
          ]
        }
      ],
      "source": [
        "from z3 import *\n",
        "\n",
        "def bmc(k):\n",
        "    s = Solver()\n",
        "    PC1 = [Int(f'PC1_{i}') for i in range(k+1)]\n",
        "    PC2 = [Int(f'PC2_{i}') for i in range(k+1)]\n",
        "    x = [Int(f'x_{i}') for i in range(k+1)]\n",
        "    y = [Int(f'y_{i}') for i in range(k+1)]\n",
        "    z = [Int(f'z_{i}') for i in range(k+1)]\n",
        "\n",
        "    s.add(PC1[0] == 1, PC2[0] == 1)\n",
        "    s.add(x[0] == 0, y[0] == 0, z[0] == 0)\n",
        "\n",
        "    for i in range(k):\n",
        "        # Transitions for Process 1\n",
        "        s.add(Or(\n",
        "            And(PC1[i] == 1, x[i+1] == 1, PC1[i+1] == 2, PC2[i+1] == PC2[i], y[i+1] == y[i], z[i+1] == z[i]),\n",
        "            And(PC1[i] == 2, Or(y[i] != 0, y[i] == 1), PC1[i+1] == 2, PC2[i+1] == PC2[i], x[i+1] == x[i], y[i+1] == y[i], z[i+1] == z[i]),\n",
        "            And(PC1[i] == 2, y[i] == 0, PC1[i+1] == 3, PC2[i+1] == PC2[i], x[i+1] == x[i], y[i+1] == y[i], z[i+1] == z[i]),\n",
        "            And(PC1[i] == 3, z[i+1] == 1, PC1[i+1] == 4, PC2[i+1] == PC2[i], x[i+1] == x[i], y[i+1] == y[i]),\n",
        "            And(PC1[i] == 4, x[i] != 1, PC1[i+1] == 4, PC2[i+1] == PC2[i], x[i+1] == x[i], y[i+1] == y[i], z[i+1] == z[i]),\n",
        "            And(PC1[i] == 4, x[i] == 1, PC1[i+1] == 5, PC2[i+1] == PC2[i], x[i+1] == x[i], y[i+1] == y[i], z[i+1] == z[i]),\n",
        "            And(PC1[i] == 5, y[i+1] == 1, PC1[i+1] == 6, PC2[i+1] == PC2[i], x[i+1] == x[i], z[i+1] == z[i]),\n",
        "            And(PC1[i] == 6, z[i] != 1, PC1[i+1] == 6, PC2[i+1] == PC2[i], x[i+1] == x[i], y[i+1] == y[i], z[i+1] == z[i]),\n",
        "            And(PC1[i] == 6, z[i] == 1, PC1[i+1] == 7, PC2[i+1] == PC2[i], x[i+1] == x[i], y[i+1] == y[i], z[i+1] == z[i]),\n",
        "            And(PC1[i] == 7, PC1[i+1] == 1, PC2[i+1] == PC2[i], x[i+1] == x[i], y[i+1] == y[i], z[i+1] == z[i]),\n",
        "            PC1[i+1] == PC1[i]\n",
        "        ))\n",
        "        # Transitions for Process 2\n",
        "        s.add(Or(\n",
        "            And(PC2[i] == 1, x[i+1] == 2, PC2[i+1] == 2, PC1[i+1] == PC1[i], y[i+1] == y[i], z[i+1] == z[i]),\n",
        "            And(PC2[i] == 2, Or(y[i] != 0, y[i] == 2), PC2[i+1] == 2, PC1[i+1] == PC1[i], x[i+1] == x[i], y[i+1] == y[i], z[i+1] == z[i]),\n",
        "            And(PC2[i] == 2, y[i] == 0, PC2[i+1] == 3, PC1[i+1] == PC1[i], x[i+1] == x[i], y[i+1] == y[i], z[i+1] == z[i]),\n",
        "            And(PC2[i] == 3, z[i+1] == 2, PC2[i+1] == 4, PC1[i+1] == PC1[i], x[i+1] == x[i], y[i+1] == y[i]),\n",
        "            And(PC2[i] == 4, x[i] != 2, PC2[i+1] == 4, PC1[i+1] == PC1[i], x[i+1] == x[i], y[i+1] == y[i], z[i+1] == z[i]),\n",
        "            And(PC2[i] == 4, x[i] == 2, PC2[i+1] == 5, PC1[i+1] == PC1[i], x[i+1] == x[i], y[i+1] == y[i], z[i+1] == z[i]),\n",
        "            And(PC2[i] == 5, y[i+1] == 2, PC2[i+1] == 6, PC1[i+1] == PC1[i], x[i+1] == x[i], z[i+1] == z[i]),\n",
        "            And(PC2[i] == 6, z[i] != 2, PC2[i+1] == 6, PC1[i+1] == PC1[i], x[i+1] == x[i], y[i+1] == y[i], z[i+1] == z[i]),\n",
        "            And(PC2[i] == 6, z[i] == 2, PC2[i+1] == 7, PC1[i+1] == PC1[i], x[i+1] == x[i], y[i+1] == y[i], z[i+1] == z[i]),\n",
        "            And(PC2[i] == 7, PC2[i+1] == 1, PC1[i+1] == PC1[i], x[i+1] == x[i], y[i+1] == y[i], z[i+1] == z[i]),\n",
        "            PC2[i+1] == PC2[i]\n",
        "        ))\n",
        "    # Check for violation of the specification\n",
        "    s.add(Or([And(PC1[i] == 7, PC2[i] == 7) for i in range(k+1)]))\n",
        "\n",
        "    if s.check() == sat:\n",
        "        m = s.model()\n",
        "        print(\"Bug found! Trace:\")\n",
        "        for i in range(k+1):\n",
        "            print(f\"time = {i}: PC1 = {m[PC1[i]]}, PC2 = {m[PC2[i]]}, x = {m[x[i]]}, y = {m[y[i]]}, z = {m[z[i]]}\")\n",
        "        return True\n",
        "    else:\n",
        "        print(f\"No bug found within bound {k}\")\n",
        "        return False\n",
        "# Run BMC with increasing bounds until a bug is found\n",
        "k = 1\n",
        "while not bmc(k):\n",
        "    k += 1\n"
      ]
    }
  ]
}